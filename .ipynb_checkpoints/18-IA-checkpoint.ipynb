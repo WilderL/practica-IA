{
 "cells": [
  {
   "cell_type": "code",
   "execution_count": 1,
   "id": "733a49dc-bb93-4c37-8f9b-71d7c792418e",
   "metadata": {},
   "outputs": [
    {
     "name": "stderr",
     "output_type": "stream",
     "text": [
      "C:\\Python311\\Lib\\site-packages\\matplotlib\\projections\\__init__.py:63: UserWarning: Unable to import Axes3D. This may be due to multiple versions of Matplotlib being installed (e.g. as a system package and as a pip package). As a result, the 3D projection is not available.\n",
      "  warnings.warn(\"Unable to import Axes3D. This may be due to multiple versions of \"\n"
     ]
    }
   ],
   "source": [
    "# Modulos necesarios \n",
    "import cv2 \n",
    "import numpy as np\n",
    "#Desde la web\n",
    "#import requests\n",
    "import mediapipe as mp"
   ]
  },
  {
   "cell_type": "code",
   "execution_count": 2,
   "id": "d8aa07ea-d7e5-41a8-a7fc-b2d3aa0a8087",
   "metadata": {},
   "outputs": [],
   "source": [
    "# Paso 1 : Cargar Imagen\n",
    "ruta = './Images/rostro-mujer.jpg'\n",
    "# Desde la web\n",
    "#response = requests.get(url)\n",
    "# image_arry = np.asarray(bytearray(response.conten), dtyper = np.uin)\n",
    "# image = cv2.imdecode(image_array, cv2.IMREAD_COLOR)\n",
    "image = cv2.imread(ruta)"
   ]
  },
  {
   "cell_type": "code",
   "execution_count": 3,
   "id": "99b8bd03-b310-4ff1-a8bc-85951e9e0612",
   "metadata": {},
   "outputs": [],
   "source": [
    "#Paso2: Inicializar la deteccion de rostros de Mediafire\n",
    "mp_face_detection = mp.solutions.face_detection\n",
    "mp_drawing = mp.solutions.drawing_utils"
   ]
  },
  {
   "cell_type": "code",
   "execution_count": 5,
   "id": "69a2a77c-93de-4fbf-8d15-b88cde92f765",
   "metadata": {},
   "outputs": [],
   "source": [
    "# Paso 3\n",
    "with mp_face_detection.FaceDetection(model_selection=1, min_detection_confidence=0.5) as face_detection:\n",
    "    # Convertir imagen a RGB (mediapipe trabaja con rgb)\n",
    "    image_rgb = cv2.cvtColor(image, cv2.COLOR_BGR2RGB)\n",
    "    #Procesar la imagen\n",
    "    results = face_detection.process(image_rgb)\n",
    "    #Dibujar los resultados\n",
    "    if results.detections:\n",
    "        for detection in results.detections:\n",
    "            mp_drawing.draw_detection(image, detection)"
   ]
  },
  {
   "cell_type": "code",
   "execution_count": null,
   "id": "fbfea758-01d7-4249-b7ef-29be8beb4d31",
   "metadata": {},
   "outputs": [],
   "source": [
    "#PASO 4\n"
   ]
  }
 ],
 "metadata": {
  "kernelspec": {
   "display_name": "Python 3 (ipykernel)",
   "language": "python",
   "name": "python3"
  },
  "language_info": {
   "codemirror_mode": {
    "name": "ipython",
    "version": 3
   },
   "file_extension": ".py",
   "mimetype": "text/x-python",
   "name": "python",
   "nbconvert_exporter": "python",
   "pygments_lexer": "ipython3",
   "version": "3.11.4"
  }
 },
 "nbformat": 4,
 "nbformat_minor": 5
}
