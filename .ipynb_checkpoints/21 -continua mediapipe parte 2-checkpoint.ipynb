{
 "cells": [
  {
   "cell_type": "code",
   "execution_count": 1,
   "id": "edbf8b7c-deec-4ff1-9309-d8a03936c094",
   "metadata": {},
   "outputs": [],
   "source": [
    "import cv2\n",
    "import mediapipe as mp\n",
    "import math"
   ]
  },
  {
   "cell_type": "code",
   "execution_count": 2,
   "id": "58fbf0a4-9124-4381-85fb-86b50903a1ea",
   "metadata": {},
   "outputs": [],
   "source": [
    "mp_drawing = mp.solutions.drawing_utils\n",
    "mp_hands = mp.solutions.hands"
   ]
  },
  {
   "cell_type": "code",
   "execution_count": 3,
   "id": "1eb9b36e-02dc-4bfd-9b90-2cc9a859e044",
   "metadata": {},
   "outputs": [],
   "source": [
    "def distancia(p1, p2):\n",
    "    return math.sqrt((p2.x - p1.x)**2 + (p2.y - p1.y)**2)"
   ]
  },
  {
   "cell_type": "code",
   "execution_count": 4,
   "id": "55f43625-32fb-45a8-9014-3b7a282f0df6",
   "metadata": {},
   "outputs": [],
   "source": [
    "# Funcionpara determinar si un dedo esta levantado\n",
    "def dedo_levantado(landmarks, dedo_tip, dedo_dip, dedo_pip, dedo_mcp, umbral=0.1):\n",
    "    # Comprar la posicion \"y\" del punto a la punta con lospuntos anteriores\n",
    "    return (landmarks[dedo_tip].y < landmarks[dedo_dip].y and \n",
    "            landmarks[dedo_dip].y < landmarks[dedo_pip].y and landmarks[dedo_pip].y < landmarks[dedo_mcp].y)"
   ]
  },
  {
   "cell_type": "code",
   "execution_count": 5,
   "id": "97019ea2-d9c3-49e9-b9e9-ca1f886b2d4d",
   "metadata": {},
   "outputs": [
    {
     "name": "stdout",
     "output_type": "stream",
     "text": [
      "Handedness:  [classification {\n",
      "  index: 0\n",
      "  score: 0.978685081\n",
      "  label: \"Left\"\n",
      "}\n",
      ", classification {\n",
      "  index: 1\n",
      "  score: 0.980933785\n",
      "  label: \"Right\"\n",
      "}\n",
      "]\n",
      "Dedos levantados: ['Pulgar', 'Indice', 'Medio', 'Anular', 'Menique']\n",
      "Dedos levantados: []\n"
     ]
    }
   ],
   "source": [
    "ruta = 'mano1.jpg'\n",
    "\n",
    "with mp_hands.Hands(\n",
    "            static_image_mode=True,\n",
    "            max_num_hands=2,\n",
    "            min_detection_confidence=0.5) as hands:\n",
    "    \n",
    "    image = cv2.imread(ruta)\n",
    "    height, width, _ = image.shape\n",
    "    image = cv2.flip(image, 1)\n",
    "    image_rgb = cv2.cvtColor(image, cv2.COLOR_BGR2RGB)\n",
    "    results = hands.process(image_rgb)\n",
    "\n",
    "    print('Handedness: ', results.multi_handedness)\n",
    "\n",
    "    if results.multi_hand_landmarks:\n",
    "        for hands_landmarks in results.multi_hand_landmarks:\n",
    "            # Dibujar las marcas y conexiones\n",
    "            mp_drawing.draw_landmarks(image, hands_landmarks, mp_hands.HAND_CONNECTIONS)\n",
    "\n",
    "            # Obtener las marcas como una lista\n",
    "            landmarks = hands_landmarks.landmark\n",
    "\n",
    "            # definir los indice s de los puntos de los dedos (segun MediaPipe)\n",
    "            PULGAR_TIP = 4\n",
    "            INDICE_TIP = 8\n",
    "            MEDIO_TIP = 12\n",
    "            ANULAR_TIP = 16\n",
    "            MENIQUE_TIP = 20\n",
    "\n",
    "            # Puntos para cada dedo (tip,dip,pip,mcp)\n",
    "            dedos = {\n",
    "                'Pulgar': (PULGAR_TIP,2,1,0),\n",
    "                'Indice': (INDICE_TIP,6,5,0),\n",
    "                'Medio': (MEDIO_TIP,10,9,0),\n",
    "                'Anular': (ANULAR_TIP,14,13,0),\n",
    "                'Menique': (MEDIO_TIP,18,17,0)\n",
    "            }\n",
    "\n",
    "            # Verificar que dedos estan levantados\n",
    "            dedo_levantados = []\n",
    "            for nombre, (tip, dip, pip, mcp) in dedos.items():\n",
    "                if dedo_levantado(landmarks, tip, dip, pip, mcp):\n",
    "                    dedo_levantados.append(nombre)\n",
    "\n",
    "            print('Dedos levantados:', dedo_levantados)\n",
    "\n",
    "            # Mostrar los dedos levantados en la imagen\n",
    "            cv2.putText(image, f\"Dedos: {','.join(dedo_levantados)}\", (10,30), cv2.FONT_HERSHEY_SIMPLEX, 1, (0,255,0), 2)"
   ]
  },
  {
   "cell_type": "code",
   "execution_count": 6,
   "id": "2f8e419a-8135-44de-8e92-1acb5f3986aa",
   "metadata": {},
   "outputs": [],
   "source": [
    "# Mostrar la imagen resultante\n",
    "cv2.imshow('Imagen', image)\n",
    "cv2.waitKey(0)\n",
    "cv2.destroyAllWindows()"
   ]
  },
  {
   "cell_type": "code",
   "execution_count": null,
   "id": "3eb29e4d-6a03-4ebd-b911-a8bce3b9d60f",
   "metadata": {},
   "outputs": [],
   "source": []
  }
 ],
 "metadata": {
  "kernelspec": {
   "display_name": "Python 3 (ipykernel)",
   "language": "python",
   "name": "python3"
  },
  "language_info": {
   "codemirror_mode": {
    "name": "ipython",
    "version": 3
   },
   "file_extension": ".py",
   "mimetype": "text/x-python",
   "name": "python",
   "nbconvert_exporter": "python",
   "pygments_lexer": "ipython3",
   "version": "3.11.4"
  }
 },
 "nbformat": 4,
 "nbformat_minor": 5
}
