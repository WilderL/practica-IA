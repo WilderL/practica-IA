{
 "cells": [
  {
   "cell_type": "code",
   "execution_count": 1,
   "id": "edbf8b7c-deec-4ff1-9309-d8a03936c094",
   "metadata": {},
   "outputs": [],
   "source": [
    "import cv2\n",
    "import mediapipe as mp\n",
    "import math"
   ]
  },
  {
   "cell_type": "code",
   "execution_count": 2,
   "id": "58fbf0a4-9124-4381-85fb-86b50903a1ea",
   "metadata": {},
   "outputs": [],
   "source": [
    "mp_drawing = mp.solutions.drawing_utils\n",
    "mp_hands = mp.solutions.hands"
   ]
  },
  {
   "cell_type": "code",
   "execution_count": 3,
   "id": "1eb9b36e-02dc-4bfd-9b90-2cc9a859e044",
   "metadata": {},
   "outputs": [],
   "source": [
    "def distancia(p1, p2):\n",
    "    return math.sqrt((p2.x - p1.x)**2 + (p2.y - p1.y)**2)"
   ]
  },
  {
   "cell_type": "code",
   "execution_count": 5,
   "id": "55f43625-32fb-45a8-9014-3b7a282f0df6",
   "metadata": {},
   "outputs": [
    {
     "ename": "SyntaxError",
     "evalue": "invalid syntax (2859008803.py, line 2)",
     "output_type": "error",
     "traceback": [
      "\u001b[1;36m  Cell \u001b[1;32mIn[5], line 2\u001b[1;36m\u001b[0m\n\u001b[1;33m    def dedo_levantado(landmarks, dedo_tip. dedo_dip, dedo_pip, dedo_mcp, umbral=0.1):\u001b[0m\n\u001b[1;37m                                          ^\u001b[0m\n\u001b[1;31mSyntaxError\u001b[0m\u001b[1;31m:\u001b[0m invalid syntax\n"
     ]
    }
   ],
   "source": [
    "# Funcionpara determinar si un dedo esta levantado\n",
    "def dedo_levantado(landmarks, dedo_tip. dedo_dip, dedo_pip, dedo_mcp, umbral=0.1):\n",
    "    # Comprar la posicion \"y\" del punto a la punta con lospuntos anteriores\n",
    "    return (landmarks[dedo_tip].y < landmarks[dedo_dip].y and \n",
    "            landmarks[dedo_dip].y < landmarks[dedo_pip].y and landmarks[dedo_pip].y < landmarks[dedo_mcp].y)"
   ]
  },
  {
   "cell_type": "code",
   "execution_count": null,
   "id": "97019ea2-d9c3-49e9-b9e9-ca1f886b2d4d",
   "metadata": {},
   "outputs": [],
   "source": []
  }
 ],
 "metadata": {
  "kernelspec": {
   "display_name": "Python 3 (ipykernel)",
   "language": "python",
   "name": "python3"
  },
  "language_info": {
   "codemirror_mode": {
    "name": "ipython",
    "version": 3
   },
   "file_extension": ".py",
   "mimetype": "text/x-python",
   "name": "python",
   "nbconvert_exporter": "python",
   "pygments_lexer": "ipython3",
   "version": "3.11.4"
  }
 },
 "nbformat": 4,
 "nbformat_minor": 5
}
