{
 "cells": [
  {
   "cell_type": "code",
   "execution_count": 1,
   "id": "02d73470",
   "metadata": {},
   "outputs": [],
   "source": [
    "import mediapipe as mp\n",
    "import cv2"
   ]
  },
  {
   "cell_type": "code",
   "execution_count": 2,
   "id": "06d0c312",
   "metadata": {},
   "outputs": [],
   "source": [
    "mp_drawing = mp.solutions.drawing_utils\n",
    "mp_hands = mp.solutions.hands"
   ]
  },
  {
   "cell_type": "code",
   "execution_count": 3,
   "id": "28873bb7",
   "metadata": {},
   "outputs": [],
   "source": [
    "def distance(p1, p2):\n",
    "    return ((p2.x - p1.x) ** 2 + (p2.y - p1.y) ** 2 + (p2.z - p1.z) ** 2) ** 0.5"
   ]
  },
  {
   "cell_type": "code",
   "execution_count": 4,
   "id": "0a714f6c",
   "metadata": {},
   "outputs": [],
   "source": [
    "def finger_raised(landmarks):\n",
    "    fingers = {\n",
    "        'Pulgar': False,\n",
    "        'Indice': False,\n",
    "        'Medio': False,\n",
    "        'Anular': False,\n",
    "        'Menique': False\n",
    "    }\n",
    "\n",
    "    # Pulgar (compare on X-axis for accuracy)\n",
    "    fingers['Pulgar'] = landmarks[4].x = landmarks[3].x if landmarks[0].x < landmarks[9].x else landmarks[4].x > landmarks[3].x\n",
    "    \n",
    "    fingers['Indice'] = landmarks[0].y < landmarks[6].y\n",
    "    fingers['Medio'] = landmarks[12].y < landmarks[10].y\n",
    "    fingers['Anular'] = landmarks[16].y < landmarks[14].y\n",
    "    fingers['Menique'] = landmarks[20].y < landmarks[18].y\n",
    "\n",
    "    return fingers\n",
    "    "
   ]
  },
  {
   "cell_type": "code",
   "execution_count": 5,
   "id": "f4c3c3b3-4df6-44d5-a962-e81158929796",
   "metadata": {},
   "outputs": [],
   "source": [
    "# Gesture detection Function\n",
    "def gesture_detection(fingers):\n",
    "    # Predefined gestures\n",
    "    if fingers['Indice'] and fingers['Medio'] and not any([fingers['Pulgar'], fingers['Anular'], fingers['Menique']]):\n",
    "        return 'Victory ✌️'\n",
    "    elif fingers['Pulgar'] and not any([fingers['Indice'], fingers['Medio'], fingers['Anular'], fingers['Menique']]):\n",
    "        return 'Pulgar arriba 👍'\n",
    "    elif fingers['Indice'] and fingers['Pulgar'] and distance(landmarks[4], landmarks[8] < 0.05):\n",
    "        return ' Ok 👌'\n",
    "    elif all(fingers.values()):\n",
    "        return 'Mano abierto 🖐️'\n",
    "    elif not all(fingers.values()):\n",
    "        return 'Gesto no definido'\n",
    "    "
   ]
  },
  {
   "cell_type": "code",
   "execution_count": 6,
   "id": "21d8ba56",
   "metadata": {},
   "outputs": [],
   "source": [
    "cap = cv2.VideoCapture(0)"
   ]
  },
  {
   "cell_type": "code",
   "execution_count": 7,
   "id": "7af32cc3",
   "metadata": {},
   "outputs": [
    {
     "ename": "TypeError",
     "evalue": "'<' not supported between instances of 'NormalizedLandmark' and 'float'",
     "output_type": "error",
     "traceback": [
      "\u001b[1;31m---------------------------------------------------------------------------\u001b[0m",
      "\u001b[1;31mTypeError\u001b[0m                                 Traceback (most recent call last)",
      "Cell \u001b[1;32mIn[7], line 29\u001b[0m\n\u001b[0;32m     26\u001b[0m landmarks \u001b[38;5;241m=\u001b[39m hand_landmarks\u001b[38;5;241m.\u001b[39mlandmark\n\u001b[0;32m     28\u001b[0m fingers \u001b[38;5;241m=\u001b[39m finger_raised(landmarks)\n\u001b[1;32m---> 29\u001b[0m gesture \u001b[38;5;241m=\u001b[39m \u001b[43mgesture_detection\u001b[49m\u001b[43m(\u001b[49m\u001b[43mfingers\u001b[49m\u001b[43m)\u001b[49m\n\u001b[0;32m     31\u001b[0m \u001b[38;5;66;03m# Show gesture detection\u001b[39;00m\n\u001b[0;32m     32\u001b[0m cv2\u001b[38;5;241m.\u001b[39mputText(image, \u001b[38;5;124mf\u001b[39m\u001b[38;5;124m'\u001b[39m\u001b[38;5;124mGesture: \u001b[39m\u001b[38;5;132;01m{\u001b[39;00mgesture\u001b[38;5;132;01m}\u001b[39;00m\u001b[38;5;124m'\u001b[39m, (\u001b[38;5;241m10\u001b[39m,\u001b[38;5;241m50\u001b[39m), cv2\u001b[38;5;241m.\u001b[39mFONT_HERSHEY_SIMPLEX, \u001b[38;5;241m1\u001b[39m, (\u001b[38;5;241m0\u001b[39m, \u001b[38;5;241m255\u001b[39m, \u001b[38;5;241m0\u001b[39m), \u001b[38;5;241m2\u001b[39m)\n",
      "Cell \u001b[1;32mIn[5], line 8\u001b[0m, in \u001b[0;36mgesture_detection\u001b[1;34m(fingers)\u001b[0m\n\u001b[0;32m      6\u001b[0m \u001b[38;5;28;01melif\u001b[39;00m fingers[\u001b[38;5;124m'\u001b[39m\u001b[38;5;124mPulgar\u001b[39m\u001b[38;5;124m'\u001b[39m] \u001b[38;5;129;01mand\u001b[39;00m \u001b[38;5;129;01mnot\u001b[39;00m \u001b[38;5;28many\u001b[39m([fingers[\u001b[38;5;124m'\u001b[39m\u001b[38;5;124mIndice\u001b[39m\u001b[38;5;124m'\u001b[39m], fingers[\u001b[38;5;124m'\u001b[39m\u001b[38;5;124mMedio\u001b[39m\u001b[38;5;124m'\u001b[39m], fingers[\u001b[38;5;124m'\u001b[39m\u001b[38;5;124mAnular\u001b[39m\u001b[38;5;124m'\u001b[39m], fingers[\u001b[38;5;124m'\u001b[39m\u001b[38;5;124mMenique\u001b[39m\u001b[38;5;124m'\u001b[39m]]):\n\u001b[0;32m      7\u001b[0m     \u001b[38;5;28;01mreturn\u001b[39;00m \u001b[38;5;124m'\u001b[39m\u001b[38;5;124mPulgar arriba 👍\u001b[39m\u001b[38;5;124m'\u001b[39m\n\u001b[1;32m----> 8\u001b[0m \u001b[38;5;28;01melif\u001b[39;00m fingers[\u001b[38;5;124m'\u001b[39m\u001b[38;5;124mIndice\u001b[39m\u001b[38;5;124m'\u001b[39m] \u001b[38;5;129;01mand\u001b[39;00m fingers[\u001b[38;5;124m'\u001b[39m\u001b[38;5;124mPulgar\u001b[39m\u001b[38;5;124m'\u001b[39m] \u001b[38;5;129;01mand\u001b[39;00m distance(landmarks[\u001b[38;5;241m4\u001b[39m], \u001b[43mlandmarks\u001b[49m\u001b[43m[\u001b[49m\u001b[38;5;241;43m8\u001b[39;49m\u001b[43m]\u001b[49m\u001b[43m \u001b[49m\u001b[38;5;241;43m<\u001b[39;49m\u001b[43m \u001b[49m\u001b[38;5;241;43m0.05\u001b[39;49m):\n\u001b[0;32m      9\u001b[0m     \u001b[38;5;28;01mreturn\u001b[39;00m \u001b[38;5;124m'\u001b[39m\u001b[38;5;124m Ok 👌\u001b[39m\u001b[38;5;124m'\u001b[39m\n\u001b[0;32m     10\u001b[0m \u001b[38;5;28;01melif\u001b[39;00m \u001b[38;5;28mall\u001b[39m(fingers\u001b[38;5;241m.\u001b[39mvalues()):\n",
      "\u001b[1;31mTypeError\u001b[0m: '<' not supported between instances of 'NormalizedLandmark' and 'float'"
     ]
    }
   ],
   "source": [
    "with mp_hands.Hands(\n",
    "    static_image_mode=False,\n",
    "    max_num_hands=2,\n",
    "    min_detection_confidence=0.7,\n",
    "    min_tracking_confidence = 0.7) as hands:\n",
    "   \n",
    "  while cap.isOpened():\n",
    "    success, image = cap.read()\n",
    "    if not success:\n",
    "      print(\"Ignoring empty camera frame.\")\n",
    "      continue\n",
    "\n",
    "    # Flip the image horizontally for a later selfie-view display\n",
    "    image = cv2.flip(image, 1)\n",
    "\n",
    "    image_rgb = cv2.cvtColor(image, cv2.COLOR_BGR2RGB)\n",
    "\n",
    "    results = hands.process(image_rgb)\n",
    "\n",
    "    if results.multi_hand_landmarks:\n",
    "      for hand_landmarks in results.multi_hand_landmarks:\n",
    "        # Draw hand landmarks\n",
    "        mp_drawing.draw_landmarks(\n",
    "            image, hand_landmarks, mp_hands.HAND_CONNECTIONS)\n",
    "        \n",
    "        landmarks = hand_landmarks.landmark\n",
    "        \n",
    "        fingers = finger_raised(landmarks)\n",
    "        gesture = gesture_detection(fingers)\n",
    "\n",
    "        # Show gesture detection\n",
    "        cv2.putText(image, f'Gesture: {gesture}', (10,50), cv2.FONT_HERSHEY_SIMPLEX, 1, (0, 255, 0), 2)\n",
    "\n",
    "        # Option\n",
    "        info_fingers = f'Fingers: {[k for k, v in fingers.items() if v]}'\n",
    "        cv2.putText(image, info_fingers, (10, 30), cv2.FONT_HERSHEY_SIMPLEX, 0.7, (25, 255, 0), 2)\n",
    "\n",
    "    cv2.imshow('Gesture Tracking', image)\n",
    "    if cv2.waitKey(5) & 0xFF == ord('q'):\n",
    "      break\n",
    "\n",
    "cap.release()\n",
    "cv2.destroyAllWindows()"
   ]
  },
  {
   "cell_type": "code",
   "execution_count": null,
   "id": "7bbe3f6c",
   "metadata": {},
   "outputs": [],
   "source": []
  }
 ],
 "metadata": {
  "kernelspec": {
   "display_name": "Python 3 (ipykernel)",
   "language": "python",
   "name": "python3"
  },
  "language_info": {
   "codemirror_mode": {
    "name": "ipython",
    "version": 3
   },
   "file_extension": ".py",
   "mimetype": "text/x-python",
   "name": "python",
   "nbconvert_exporter": "python",
   "pygments_lexer": "ipython3",
   "version": "3.11.4"
  }
 },
 "nbformat": 4,
 "nbformat_minor": 5
}
