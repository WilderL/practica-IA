{
 "cells": [
  {
   "cell_type": "markdown",
   "id": "6d6b3f38-055f-45d9-bea6-1d2b87ce76e7",
   "metadata": {},
   "source": [
    "# Requisitos: pip install tensorflow, matplotlib, numpy"
   ]
  },
  {
   "cell_type": "code",
   "execution_count": 2,
   "id": "2b61972d-60e1-4d2f-a5af-8e808b6b8e8f",
   "metadata": {},
   "outputs": [],
   "source": [
    "import tensorflow as tf\n",
    "from tensorflow.keras.layers import Dense, LeakyReLU, BatchNormalization, Reshape, Flatten\n",
    "from tensorflow.keras.models import Sequential\n",
    "from tensorflow.keras.optimizers import Adam\n",
    "import numpy as np\n",
    "import matplotlib.pyplot as plt"
   ]
  },
  {
   "cell_type": "code",
   "execution_count": 4,
   "id": "56009864-4976-4374-a962-cffa687f04ce",
   "metadata": {},
   "outputs": [],
   "source": [
    "# Cargar el dataset MNIST\n",
    "(X_train, _), (_,_) = tf.keras.datasets.mnist.load_data()\n",
    "X_train = X_train / 255.0 # Normalizar imagenes entre 0 y 1\n",
    "X_train = X_train.reshape(-1,28,28,1).astype('float32')"
   ]
  },
  {
   "cell_type": "code",
   "execution_count": 6,
   "id": "ad44d84e-5dfc-4d2a-8a93-0225f50688ed",
   "metadata": {},
   "outputs": [],
   "source": [
    "# Tama;o dle espacio latente (ruido de entrada para el generador)\n",
    "latent_dim = 100"
   ]
  },
  {
   "cell_type": "code",
   "execution_count": 7,
   "id": "72b609cb-d169-4b01-b74a-4428d363f1fb",
   "metadata": {},
   "outputs": [],
   "source": [
    "# Crear el generador\n",
    "def buil_generador():\n",
    "    model = Sequential([\n",
    "        Dense(256, input_dim=latent_dim),\n",
    "        LeakyReLU(alpha=0.2),\n",
    "        BatchNormalization(),\n",
    "        Dense(512),\n",
    "        LeakyReLU(alpha=0.2),\n",
    "        BatchNormalization(),\n",
    "        Dense(1024),\n",
    "        LeakyReLU(alpha=0.2),\n",
    "        BatchNormalization(),\n",
    "        Dense(28*28*1, activation='tanh'),\n",
    "        Reshape((28,28,1))\n",
    "    ])\n",
    "    return model"
   ]
  },
  {
   "cell_type": "code",
   "execution_count": 9,
   "id": "46c78296-8c9d-4a6d-a6a5-bfaac9f01d56",
   "metadata": {},
   "outputs": [],
   "source": [
    "# Crear el Discriminador(filtro)\n",
    "def build_discriminador():\n",
    "    model = Sequential([\n",
    "        Flatten(input_shape=(28,28,1)),\n",
    "        Dense(512),\n",
    "        LeakyReLU(alpha=0.2),\n",
    "        Dense(1, activation='sigmoid') # Clasificacion entre real (1) o Falso (0)\n",
    "    ])\n",
    "    return model"
   ]
  },
  {
   "cell_type": "code",
   "execution_count": 10,
   "id": "a0b4af0b-d14c-4f2f-96df-ea7d62a31ce3",
   "metadata": {},
   "outputs": [
    {
     "name": "stderr",
     "output_type": "stream",
     "text": [
      "C:\\Users\\gamer\\AppData\\Local\\Programs\\Python\\Python311\\Lib\\site-packages\\keras\\src\\layers\\reshaping\\flatten.py:37: UserWarning: Do not pass an `input_shape`/`input_dim` argument to a layer. When using Sequential models, prefer using an `Input(shape)` object as the first layer in the model instead.\n",
      "  super().__init__(**kwargs)\n",
      "C:\\Users\\gamer\\AppData\\Local\\Programs\\Python\\Python311\\Lib\\site-packages\\keras\\src\\layers\\activations\\leaky_relu.py:41: UserWarning: Argument `alpha` is deprecated. Use `negative_slope` instead.\n",
      "  warnings.warn(\n"
     ]
    }
   ],
   "source": [
    "# Compilar el modelo\n",
    "discriminador = build_discriminador()\n",
    "discriminador.compile(\n",
    "    optimizer=Adam(learning_rate=0.0002, beta_1=0.5),\n",
    "    loss='binary_crossentropy',\n",
    "    metrics=['accuracy']\n",
    ")"
   ]
  },
  {
   "cell_type": "code",
   "execution_count": 11,
   "id": "9209ed24-bc6c-4ba6-829a-2fb0a3ff7e2d",
   "metadata": {},
   "outputs": [
    {
     "name": "stderr",
     "output_type": "stream",
     "text": [
      "C:\\Users\\gamer\\AppData\\Local\\Programs\\Python\\Python311\\Lib\\site-packages\\keras\\src\\layers\\core\\dense.py:87: UserWarning: Do not pass an `input_shape`/`input_dim` argument to a layer. When using Sequential models, prefer using an `Input(shape)` object as the first layer in the model instead.\n",
      "  super().__init__(activity_regularizer=activity_regularizer, **kwargs)\n",
      "C:\\Users\\gamer\\AppData\\Local\\Programs\\Python\\Python311\\Lib\\site-packages\\keras\\src\\layers\\activations\\leaky_relu.py:41: UserWarning: Argument `alpha` is deprecated. Use `negative_slope` instead.\n",
      "  warnings.warn(\n"
     ]
    }
   ],
   "source": [
    "# Compilar el generador (dentrode la GAN)\n",
    "generador = buil_generador()"
   ]
  },
  {
   "cell_type": "code",
   "execution_count": 13,
   "id": "dd4070ba-1645-4faf-a5fc-6ba6a51f54b4",
   "metadata": {},
   "outputs": [],
   "source": [
    "# Compilar el discriminador durante el entrenamiento del generador\n",
    "discriminador.trainable=False\n",
    "# Crear la GAN combinadoel generador y el discriminador\n",
    "gan_input = tf.keras.Input(shape=(latent_dim,))\n",
    "gan_output = discriminador(generador(gan_input))\n",
    "gan = tf.keras.Model(gan_input, gan_output)"
   ]
  },
  {
   "cell_type": "code",
   "execution_count": 14,
   "id": "030c4a73-0102-4164-bc66-df7a2fe2e546",
   "metadata": {},
   "outputs": [],
   "source": [
    "# Compilar la GAN\n",
    "gan.compile(\n",
    "    optimizer=Adam(learning_rate=0.002, beta_1=0.5),\n",
    "    loss='binary_crossentropy'\n",
    ")"
   ]
  },
  {
   "cell_type": "code",
   "execution_count": null,
   "id": "74e5fdf3-a56c-4e4b-ae92-45d5feb8e10d",
   "metadata": {},
   "outputs": [],
   "source": []
  }
 ],
 "metadata": {
  "kernelspec": {
   "display_name": "Python 3 (ipykernel)",
   "language": "python",
   "name": "python3"
  },
  "language_info": {
   "codemirror_mode": {
    "name": "ipython",
    "version": 3
   },
   "file_extension": ".py",
   "mimetype": "text/x-python",
   "name": "python",
   "nbconvert_exporter": "python",
   "pygments_lexer": "ipython3",
   "version": "3.11.4"
  }
 },
 "nbformat": 4,
 "nbformat_minor": 5
}
