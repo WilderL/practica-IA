{
 "cells": [
  {
   "cell_type": "code",
   "execution_count": 1,
   "id": "00689cf5-1fc2-4c0e-bed4-e2ab5250d81e",
   "metadata": {},
   "outputs": [],
   "source": [
    "import cv2\n",
    "import mediapipe as mp"
   ]
  },
  {
   "cell_type": "code",
   "execution_count": 2,
   "id": "8edfbc1b-ad94-40fb-8351-7e0321da7ff0",
   "metadata": {},
   "outputs": [],
   "source": [
    "mp_drawing = mp.solutions.drawing_utils\n",
    "mp_hands = mp.solutions.hands"
   ]
  },
  {
   "cell_type": "code",
   "execution_count": 7,
   "id": "f057865b-4758-4002-abfb-e0554936dc0b",
   "metadata": {},
   "outputs": [],
   "source": [
    "ruta = 'manos.jpg'"
   ]
  },
  {
   "cell_type": "code",
   "execution_count": 8,
   "id": "bc82d42f-d00c-4157-90cf-6fdf09198ed1",
   "metadata": {},
   "outputs": [
    {
     "name": "stdout",
     "output_type": "stream",
     "text": [
      "Handedness:  [classification {\n",
      "  index: 0\n",
      "  score: 0.986841381\n",
      "  label: \"Left\"\n",
      "}\n",
      ", classification {\n",
      "  index: 1\n",
      "  score: 0.953673\n",
      "  label: \"Right\"\n",
      "}\n",
      "]\n"
     ]
    }
   ],
   "source": [
    "with mp_hands.Hands( static_image_mode=True,\n",
    "        max_num_hands=2,\n",
    "        min_detection_confidence=0.5) as hands:\n",
    "    image = cv2.imread(ruta)\n",
    "    height, width, _ = image.shape\n",
    "    image = cv2.flip(image, 1)\n",
    "    image_rgb = cv2.cvtColor(image, cv2.COLOR_BGR2RGB)\n",
    "    resultado = hands.process(image_rgb)\n",
    "    print('Handedness: ', resultado.multi_handedness)    "
   ]
  },
  {
   "cell_type": "code",
   "execution_count": null,
   "id": "babbdb71-f07f-42a3-a916-9053fa7ea86d",
   "metadata": {},
   "outputs": [],
   "source": []
  }
 ],
 "metadata": {
  "kernelspec": {
   "display_name": "Python 3 (ipykernel)",
   "language": "python",
   "name": "python3"
  },
  "language_info": {
   "codemirror_mode": {
    "name": "ipython",
    "version": 3
   },
   "file_extension": ".py",
   "mimetype": "text/x-python",
   "name": "python",
   "nbconvert_exporter": "python",
   "pygments_lexer": "ipython3",
   "version": "3.11.4"
  }
 },
 "nbformat": 4,
 "nbformat_minor": 5
}
