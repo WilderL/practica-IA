{
 "cells": [
  {
   "cell_type": "code",
   "execution_count": 1,
   "id": "02d73470",
   "metadata": {},
   "outputs": [],
   "source": [
    "import mediapipe as mp\n",
    "import cv2"
   ]
  },
  {
   "cell_type": "code",
   "execution_count": 2,
   "id": "06d0c312",
   "metadata": {},
   "outputs": [],
   "source": [
    "mp_drawing = mp.solutions.drawing_utils\n",
    "mp_hands = mp.solutions.hands"
   ]
  },
  {
   "cell_type": "code",
   "execution_count": 3,
   "id": "28873bb7",
   "metadata": {},
   "outputs": [],
   "source": [
    "def distance(p1, p2):\n",
    "    return ((p2.x - p1.x) ** 2 + (p2.y - p1.y) ** 2 + (p2.z - p1.z) ** 2) ** 0.5"
   ]
  },
  {
   "cell_type": "code",
   "execution_count": 4,
   "id": "0a714f6c",
   "metadata": {},
   "outputs": [],
   "source": [
    "def finger_raised(landmarks):\n",
    "    fingers = {\n",
    "        'Pulgar': False,\n",
    "        'Indice': False,\n",
    "        'Medio': False,\n",
    "        'Anular': False,\n",
    "        'Menique': False\n",
    "    }\n",
    "\n",
    "    # Pulgar (compare on X-axis for accuracy)\n",
    "    fingers['Pulgar'] = landmarks[4].x = landmarks[3].x if landmarks[0].x < landmarks[9].x else landmarks[4].x > landmarks[3].x\n",
    "    \n",
    "    fingers['Indice'] = landmarks[8].y < landmarks[6].y\n",
    "    fingers['Medio'] = landmarks[12].y < landmarks[10].y\n",
    "    fingers['Anular'] = landmarks[16].y < landmarks[14].y\n",
    "    fingers['Menique'] = landmarks[20].y < landmarks[18].y\n",
    "\n",
    "    return fingers\n",
    "    "
   ]
  },
  {
   "cell_type": "code",
   "execution_count": 5,
   "id": "f4c3c3b3-4df6-44d5-a962-e81158929796",
   "metadata": {},
   "outputs": [],
   "source": [
    "# Gesture detection Function\n",
    "def gesture_detection(fingers):\n",
    "    # Predefined gestures\n",
    "    if fingers['Indice'] and fingers['Medio'] and not any([fingers['Pulgar'], fingers['Anular'], fingers['Menique']]):\n",
    "        return 'Victory ✌️'\n",
    "    elif fingers['Pulgar'] and not any([fingers['Indice'], fingers['Medio'], fingers['Anular'], fingers['Menique']]):\n",
    "        return 'Pulgar arriba 👍'\n",
    "    elif any([fingers['Medio'], fingers['Anular'], fingers['Menique']]) and distance(landmarks[4], landmarks[8]) < 0.05:\n",
    "        return 'Ok 👌'\n",
    "    elif all(fingers.values()):\n",
    "        return 'Mano abierto 🖐️'\n",
    "    elif not all(fingers.values()):\n",
    "        return 'Gesto no definido'\n",
    "    "
   ]
  },
  {
   "cell_type": "code",
   "execution_count": 6,
   "id": "21d8ba56",
   "metadata": {},
   "outputs": [],
   "source": [
    "cap = cv2.VideoCapture(0)"
   ]
  },
  {
   "cell_type": "code",
   "execution_count": 7,
   "id": "7af32cc3",
   "metadata": {},
   "outputs": [],
   "source": [
    "with mp_hands.Hands(\n",
    "    static_image_mode=False,\n",
    "    max_num_hands=2,\n",
    "    min_detection_confidence=0.7,\n",
    "    min_tracking_confidence = 0.7) as hands:\n",
    "   \n",
    "  while cap.isOpened():\n",
    "    success, image = cap.read()\n",
    "    if not success:\n",
    "      print(\"Ignoring empty camera frame.\")\n",
    "      continue\n",
    "\n",
    "    # Flip the image horizontally for a later selfie-view display\n",
    "    image = cv2.flip(image, 1)\n",
    "\n",
    "    image_rgb = cv2.cvtColor(image, cv2.COLOR_BGR2RGB)\n",
    "\n",
    "    results = hands.process(image_rgb)\n",
    "\n",
    "    if results.multi_hand_landmarks:\n",
    "      for hand_landmarks in results.multi_hand_landmarks:\n",
    "        # Draw hand landmarks\n",
    "        mp_drawing.draw_landmarks(\n",
    "            image, hand_landmarks, mp_hands.HAND_CONNECTIONS)\n",
    "        \n",
    "        landmarks = hand_landmarks.landmark\n",
    "        \n",
    "        fingers = finger_raised(landmarks)\n",
    "        gesture = gesture_detection(fingers)\n",
    "\n",
    "        # Show gesture detection\n",
    "        cv2.putText(image, f'Gesture: {gesture}', (10,50), cv2.FONT_HERSHEY_SIMPLEX, 1, (0, 255, 0), 2)\n",
    "\n",
    "        # Option\n",
    "        info_fingers = f'Fingers: {[k for k, v in fingers.items() if v]}'\n",
    "        cv2.putText(image, info_fingers, (10, 30), cv2.FONT_HERSHEY_SIMPLEX, 0.7, (25, 255, 0), 2)\n",
    "\n",
    "    cv2.imshow('Gesture Tracking', image)\n",
    "    if cv2.waitKey(5) & 0xFF == ord('q'):\n",
    "      break\n",
    "\n",
    "cap.release()\n",
    "cv2.destroyAllWindows()"
   ]
  },
  {
   "cell_type": "code",
   "execution_count": null,
   "id": "7bbe3f6c",
   "metadata": {},
   "outputs": [],
   "source": []
  }
 ],
 "metadata": {
  "kernelspec": {
   "display_name": "Python 3 (ipykernel)",
   "language": "python",
   "name": "python3"
  },
  "language_info": {
   "codemirror_mode": {
    "name": "ipython",
    "version": 3
   },
   "file_extension": ".py",
   "mimetype": "text/x-python",
   "name": "python",
   "nbconvert_exporter": "python",
   "pygments_lexer": "ipython3",
   "version": "3.11.4"
  }
 },
 "nbformat": 4,
 "nbformat_minor": 5
}
