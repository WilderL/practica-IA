{
 "cells": [
  {
   "cell_type": "code",
   "execution_count": 1,
   "id": "02d73470",
   "metadata": {},
   "outputs": [],
   "source": [
    "import mediapipe as mp\n",
    "import cv2"
   ]
  },
  {
   "cell_type": "code",
   "execution_count": 2,
   "id": "06d0c312",
   "metadata": {},
   "outputs": [],
   "source": [
    "mp_drawing = mp.solutions.drawing_utils\n",
    "mp_hands = mp.solutions.hands"
   ]
  },
  {
   "cell_type": "code",
   "execution_count": 3,
   "id": "28873bb7",
   "metadata": {},
   "outputs": [],
   "source": [
    "def distance(p1, p2):\n",
    "    return ((p2.x - p1.x) ** 2 + (p2.y - p1.y) ** 2 + (p2.z - p1.z) ** 2) ** 0.5"
   ]
  },
  {
   "cell_type": "code",
   "execution_count": 4,
   "id": "0a714f6c",
   "metadata": {},
   "outputs": [],
   "source": [
    "def finger_raised(landmarks, finger_tip, finger_dip, finger_pip, finger_mcp, umbral=0.2):\n",
    "    return ( \n",
    "            landmarks[finger_tip].y < landmarks[finger_dip].y and\n",
    "            landmarks[finger_dip].y < landmarks[finger_pip].y and\n",
    "            landmarks[finger_pip].y < landmarks[finger_mcp].y\n",
    "    )"
   ]
  },
  {
   "cell_type": "code",
   "execution_count": 5,
   "id": "21d8ba56",
   "metadata": {},
   "outputs": [],
   "source": [
    "cap = cv2.VideoCapture(0)"
   ]
  },
  {
   "cell_type": "code",
   "execution_count": null,
   "id": "7af32cc3",
   "metadata": {},
   "outputs": [],
   "source": [
    "with mp_hands.Hands(\n",
    "    static_image_mode=False,\n",
    "    max_num_hands=2,\n",
    "    min_detection_confidence=0.5,\n",
    "    min_tracking_confidence = 0.5) as hands:\n",
    "   \n",
    "  while cap.isOpened():\n",
    "    success, image = cap.read()\n",
    "    if not success:\n",
    "      print(\"Ignoring empty camera frame.\")\n",
    "      continue\n",
    "\n",
    "    # Flip the image horizontally for a later selfie-view display\n",
    "    image = cv2.flip(image, 1)\n",
    "\n",
    "    image_rgb = cv2.cvtColor(image, cv2.COLOR_BGR2RGB)\n",
    "\n",
    "    results = hands.process(image_rgb)\n",
    "\n",
    "    if results.multi_hand_landmarks:\n",
    "      for hand_landmarks in results.multi_hand_landmarks:\n",
    "        # Draw hand landmarks\n",
    "        mp_drawing.draw_landmarks(\n",
    "            image, hand_landmarks, mp_hands.HAND_CONNECTIONS)\n",
    "        \n",
    "        landmarks = hand_landmarks.landmark\n",
    "        \n",
    "        PULGAR_TIP = 4\n",
    "        INDICE_TIP = 8\n",
    "        MEDIO_TIP = 12\n",
    "        ANULAR_TIP = 16\n",
    "        MENIQUE_TIP = 20\n",
    "\n",
    "        fingers = {\n",
    "                'pulgar': (PULGAR_TIP, 2, 1, 0),\n",
    "                'indice': (INDICE_TIP, 6, 5, 0),\n",
    "                'medio': (MEDIO_TIP, 10, 9, 0),\n",
    "                'anular': (ANULAR_TIP, 14, 13, 0),\n",
    "                'menique': (MENIQUE_TIP, 18, 17, 0)\n",
    "            }\n",
    "        \n",
    "        raised_fingers = []\n",
    "        for name, (tip, dip, pip, mcp) in fingers.items():\n",
    "            if finger_raised(landmarks, tip, dip, pip, mcp):\n",
    "                raised_fingers.append(name)\n",
    "\n",
    "        cv2.putText(image, f'Fingers: {\", \".join(raised_fingers)}', (10, 30), cv2.FONT_HERSHEY_SIMPLEX, 1, (0, 255, 0), 2)\n",
    "\n",
    "    cv2.imshow('Hand Tracking', image)\n",
    "    if cv2.waitKey(5) & 0xFF == ord('q'):\n",
    "      break\n",
    "\n",
    "cap.release()\n",
    "cv2.destroyAllWindows()"
   ]
  },
  {
   "cell_type": "code",
   "execution_count": null,
   "id": "7bbe3f6c",
   "metadata": {},
   "outputs": [],
   "source": []
  }
 ],
 "metadata": {
  "kernelspec": {
   "display_name": "Python 3 (ipykernel)",
   "language": "python",
   "name": "python3"
  },
  "language_info": {
   "codemirror_mode": {
    "name": "ipython",
    "version": 3
   },
   "file_extension": ".py",
   "mimetype": "text/x-python",
   "name": "python",
   "nbconvert_exporter": "python",
   "pygments_lexer": "ipython3",
   "version": "3.11.4"
  }
 },
 "nbformat": 4,
 "nbformat_minor": 5
}
